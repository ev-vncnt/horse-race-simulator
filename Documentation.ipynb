{
 "cells": [
  {
   "cell_type": "markdown",
   "metadata": {},
   "source": [
    "# **Horse Race Simulation**\n",
    "#### ECS414U Object Oriented Programming Project\n",
    "***"
   ]
  },
  {
   "cell_type": "markdown",
   "metadata": {},
   "source": [
    "### **Part I: A Textual Racing Simulator**\n",
    "\n",
    "#### **Introduction:**\n",
    "In the textual racing simulator, the Horse class is used to represent the invidual horses taking part in the race simulation. This report outlines how the Horse class was implemented, specifically what was added to  McFarewell's original code. The use of encapsulation is shown to protect data integrity and ensure compatibility with the Race class."
   ]
  },
  {
   "cell_type": "markdown",
   "metadata": {},
   "source": [
    "#### **Write the Horse class according to the specification:**\n",
    "***\n",
    "##### **Implementation Details:**\n",
    "\n",
    "**Class Structure**:\n",
    "\n",
    "The class is named ```Horse```. This is done to represent its purpose as an abstraction of a racing horse in the simulation.\n",
    "\n",
    "It includes 5 fields that store vital information about each horse which will be needed for computation and representation.\n"
   ]
  },
  {
   "cell_type": "code",
   "execution_count": null,
   "metadata": {
    "vscode": {
     "languageId": "java"
    }
   },
   "outputs": [],
   "source": [
    "public class Horse\n",
    "{\n",
    "    //Fields of class Horse\n",
    "    \n",
    "    String horseName;\n",
    "    char horseSymbol; \n",
    "    int distance;\n",
    "    boolean hasFallen;\n",
    "    double horseConfidence;\n",
    "}"
   ]
  },
  {
   "cell_type": "markdown",
   "metadata": {},
   "source": [
    "```horseName (String)```: The name of the horse\n",
    "\n",
    "```horseSymbol (char)```: A unicode character used to represent the horse e.g., ♘\n",
    "\n",
    "```distance (int)```: The distance the horse has travelled in the race\n",
    "\n",
    "```hasFallen (boolean)```: True if the horse has fallen, false if it hasn't\n",
    "\n",
    "```horseConfidence (double)```: The horses confidence rating from 0 - 1"
   ]
  },
  {
   "cell_type": "markdown",
   "metadata": {},
   "source": [
    "**Constructor**:\n",
    "\n",
    "The constructor initialises the Horse object with the provided paramaters."
   ]
  },
  {
   "cell_type": "code",
   "execution_count": null,
   "metadata": {
    "vscode": {
     "languageId": "java"
    }
   },
   "outputs": [],
   "source": [
    "public Horse(char horseSymbol, String horseName, double horseConfidence)\n",
    "{\n",
    "    this.horseSymbol = horseSymbol;\n",
    "    this.horseName = horseName;\n",
    "    this.horseConfidence = horseConfidence;\n",
    "    this.distance = 0; // Initialise distance to 0\n",
    "    this.hasFallen = false; // Initialise hasFallen to false\n",
    "}"
   ]
  },
  {
   "cell_type": "markdown",
   "metadata": {},
   "source": [
    "The distance is initialised to 0, indicating that all horses begin at the start of the race.\n",
    "\n",
    "hasFallen is initalised to be false, as the horses start standing."
   ]
  },
  {
   "cell_type": "markdown",
   "metadata": {},
   "source": [
    "**Accessor Methods**\n",
    "\n",
    "The following methods are used to retrieve data from the object without accessing it directly, reducing risk of harm to integrity."
   ]
  },
  {
   "cell_type": "code",
   "execution_count": null,
   "metadata": {
    "vscode": {
     "languageId": "java"
    }
   },
   "outputs": [],
   "source": [
    "public double getConfidence()\n",
    "{\n",
    "    return this.horseConfidence;\n",
    "}\n",
    "\n",
    "public int getDistanceTravelled()\n",
    "{\n",
    "    return this.distance;\n",
    "}\n",
    "\n",
    "public String getName()\n",
    "{\n",
    "    return horseName;\n",
    "}\n",
    "\n",
    "public char getSymbol()\n",
    "{\n",
    "    return horseSymbol;\n",
    "}\n",
    "\n",
    "public boolean hasFallen()\n",
    "{\n",
    "    return this.hasFallen;\n",
    "}"
   ]
  },
  {
   "cell_type": "markdown",
   "metadata": {},
   "source": [
    "```getConfidence()```: Returns the confidence rating of the horse\n",
    "\n",
    "```getDistanceTravelled()```: Returns the distance travelled by the horse\n",
    "\n",
    "```getName()```: Returns the name of the horse\n",
    "\n",
    "```getSymbol()```: Returns the Unicode character attributed to the horse\n",
    "\n",
    "```hasFallen()```: Returns whether the horse has fallen or not, true if yes and false if no"
   ]
  },
  {
   "cell_type": "markdown",
   "metadata": {},
   "source": [
    "**Mutator Methods**\n",
    "\n",
    "The following methods are used to change values of the horse objects."
   ]
  },
  {
   "cell_type": "code",
   "execution_count": null,
   "metadata": {
    "vscode": {
     "languageId": "java"
    }
   },
   "outputs": [],
   "source": [
    "public void fall()\n",
    "{\n",
    "    this.hasFallen = true;\n",
    "}\n",
    "\n",
    "public void goBackToStart()\n",
    "{\n",
    "    distance = 0;\n",
    "}\n",
    "\n",
    "public void moveForward()\n",
    "{\n",
    "    this.distance += 1;\n",
    "}\n",
    "\n",
    "public void setConfidence(double newConfidence)\n",
    "{\n",
    "    this.horseConfidence = newConfidence;\n",
    "}\n",
    "\n",
    "public void setSymbol(char newSymbol)\n",
    "{\n",
    "    this.horseSymbol = newSymbol;\n",
    "}"
   ]
  },
  {
   "cell_type": "markdown",
   "metadata": {},
   "source": [
    "fall(): Sets the hasFallen attribute of the horse to true, called when the horse has falled over during the race\n",
    "\n",
    "goBackToStart(): Resets the distance travelled by the horse down to zero, implying that the horse has returned to the starting line\n",
    "\n",
    "moveForward(): Increments the distance travelled by the horse by 1\n",
    "\n",
    "setConfidence(double newConfidence): Sets the confidence rating to the newConfidence value provided\n",
    "\n",
    "setSymbol(char newSymbol): Sets the horseSymbol attribute of the horse to the provided Unicode symbol"
   ]
  },
  {
   "cell_type": "markdown",
   "metadata": {},
   "source": [
    "**Encapsulation and Data Safeguarding**\n",
    "\n",
    "Encapsulation is used to make sure that the values of the fields are always in the correct format and within the constraints needed for the program. I have utilisde private access modifiers to the fields which blocks direct access from other classes. The accesssor and mutator methods are used to retrieve and change the data inside of the Horse objects. This protects the integrity of the objects and prevents accidental access or changes."
   ]
  },
  {
   "cell_type": "markdown",
   "metadata": {},
   "source": [
    "**Testing Horse Class**\n",
    "\n",
    "A test method was written inside the Horse class to test the functionality and ensure that the accessor and mutator methods were ready to be used by the ```Race``` class. Details about the test are highlighted below.\n",
    "\n"
   ]
  },
  {
   "cell_type": "markdown",
   "metadata": {},
   "source": [
    "Test Method:"
   ]
  },
  {
   "cell_type": "code",
   "execution_count": null,
   "metadata": {
    "vscode": {
     "languageId": "java"
    }
   },
   "outputs": [],
   "source": [
    "public static void main(String [] a)\n",
    "{\n",
    "    runTest();\n",
    "}\n",
    "\n",
    "public static void runTest()\n",
    "{\n",
    "    String newLine = \"\\n--------------------\\n\";\n",
    "    Horse testHorse = new Horse('A', \"Axel\", 0.7);\n",
    "    \n",
    "    System.out.println(\"\\nAccessor Methods:\");\n",
    "\n",
    "    System.out.println(newLine + \"Test getConfidence(): \");\n",
    "    System.out.println(\"Confidence: \" + testHorse.getConfidence());\n",
    "\n",
    "    System.out.println(newLine + \"Test getDistanceTravelled():\");\n",
    "    System.out.println(\"Distance: \" + testHorse.getDistanceTravelled());\n",
    "\n",
    "    System.out.println(newLine + \"Test getName():\");\n",
    "    System.out.println(\"Name: \" + testHorse.getName());\n",
    "\n",
    "    System.out.println(newLine + \"Test getSymbol():\");\n",
    "    System.out.println(\"Symbol: \" + testHorse.getSymbol());\n",
    "\n",
    "    System.out.println(newLine + \"Test hasFallen():\");\n",
    "    System.out.println(\"Has Fallen: \" + testHorse.hasFallen());\n",
    "\n",
    "    System.out.println(\"\\nMutator Methods: \");\n",
    "\n",
    "    System.out.println(newLine + \"Test fall(): \");\n",
    "    System.out.println(\"Has fallen? \");\n",
    "    System.out.println(\"Expected output: true\");\n",
    "    testHorse.fall();\n",
    "    System.out.println(\"Actual Output: \" + testHorse.hasFallen);\n",
    "\n",
    "    System.out.println(newLine + \"Test moveForward(): \");\n",
    "    System.out.println(\"Distance travelled?\");\n",
    "    System.out.println(\"Expected output: 2\");\n",
    "    testHorse.moveForward();\n",
    "    testHorse.moveForward();\n",
    "    System.out.println(\"Actual Output: \" + testHorse.getDistanceTravelled());\n",
    "    \n",
    "    System.out.println(newLine + \"Test goBackToStart(): \");\n",
    "    System.out.println(\"Distance travelled? \");\n",
    "    System.out.println(\"Expected output: 0\");\n",
    "    testHorse.goBackToStart();\n",
    "    System.out.println(\"Actual Output: \" + testHorse.getDistanceTravelled());\n",
    "\n",
    "    System.out.println(newLine + \"Test setSymbol(char): \");\n",
    "    System.out.println(\"Horse symbol?\");\n",
    "    System.out.println(\"Expected output: X\");\n",
    "    testHorse.setSymbol('X');\n",
    "    System.out.println(\"Actual Output: \" + testHorse.getSymbol());\n",
    "\n",
    "    System.out.println(newLine + \"Test setConfidence(double): \");\n",
    "    System.out.println(\"Horse confidence?\");\n",
    "    System.out.println(\"Expected output: 0.3\");\n",
    "    testHorse.setConfidence(0.3);\n",
    "    System.out.println(\"Actual Output: \" + testHorse.getConfidence());\n",
    "\n",
    "    System.out.println(\"\\nTests Complete.\\n\");\n",
    "}"
   ]
  },
  {
   "cell_type": "markdown",
   "metadata": {},
   "source": [
    "Test Results:"
   ]
  },
  {
   "cell_type": "code",
   "execution_count": null,
   "metadata": {
    "vscode": {
     "languageId": "java"
    }
   },
   "outputs": [],
   "source": [
    "Accessor Methods:\n",
    "\n",
    "--------------------\n",
    "Test getConfidence():\n",
    "Confidence: 0.7\n",
    "\n",
    "--------------------\n",
    "Test getDistanceTravelled():\n",
    "Distance: 0\n",
    "\n",
    "--------------------\n",
    "Test getName():\n",
    "Name: Axel\n",
    "\n",
    "--------------------\n",
    "Test getSymbol():\n",
    "Symbol: A\n",
    "\n",
    "--------------------\n",
    "Test hasFallen():\n",
    "Has Fallen: false\n",
    "\n",
    "Mutator Methods:\n",
    "\n",
    "--------------------\n",
    "Test fall():\n",
    "Has fallen?\n",
    "Expected output: true\n",
    "Actual Output: true\n",
    "\n",
    "--------------------\n",
    "Test moveForward():\n",
    "Distance travelled?\n",
    "Expected output: 2\n",
    "Actual Output: 2\n",
    "\n",
    "--------------------\n",
    "Test goBackToStart():\n",
    "Distance travelled?\n",
    "Expected output: 0\n",
    "Actual Output: 0\n",
    "\n",
    "--------------------\n",
    "Test setSymbol(char):\n",
    "Horse symbol?\n",
    "Expected output: X\n",
    "Actual Output: X\n",
    "\n",
    "--------------------\n",
    "Test setConfidence(double):\n",
    "Horse confidence?\n",
    "Expected output: 0.3\n",
    "Actual Output: 0.3\n",
    "\n",
    "Tests Complete."
   ]
  },
  {
   "cell_type": "markdown",
   "metadata": {},
   "source": [
    "\n",
    "Firstly, a ```testHorse``` object of type ```Horse``` was initialised with values: 'A', \"Axel\", 0.7 passed into the constructor. This means that the Horse began with fields:\n",
    "\n",
    "    horseName: \"Axel\"\n",
    "    horseSymbol: 'A'\n",
    "    distance: 0\n",
    "    hasFallen: false\n",
    "    horseConfidence: 0.7\n",
    "\n",
    "The first series of tests simply calls the get functions to retrieve any of the fields that may be required from the ```Race``` class, which include confidence, distance, name, symbol and hasfallen. \n",
    "\n",
    "The second series of tests are the mutator methods. These methods can change the fields of the ```testHorse``` object. Each field with a mutator method has its value changed and the accessor methods are called to see this change. \n",
    "\n",
    "As shown above, all the tests passed with the expected outputs, meaning the ```Horse``` class is ready to be used by the ```Race``` class.\n"
   ]
  },
  {
   "cell_type": "markdown",
   "metadata": {},
   "source": [
    "#### **Examining and improving the Race Class** \n",
    "***\n",
    "\n",
    "In the following section, I have detailed the updated code of the class Race.java, including all of the modifications made\n",
    "\n",
    "I have utilised screenshots and detailed explainations of the testing conduction when implementing these changes."
   ]
  },
  {
   "cell_type": "markdown",
   "metadata": {},
   "source": [
    "**Initialising and Running a Race**\n",
    "\n",
    "Firstly, I created a new class in a seperate file called ```HorseRace.java```. The class used is ```HorseRace```, which will serve as the main class. Inside this class, a main function is used which creates a new ```Race``` object. \n",
    "\n",
    "HorseRace.java:"
   ]
  },
  {
   "cell_type": "code",
   "execution_count": null,
   "metadata": {
    "vscode": {
     "languageId": "java"
    }
   },
   "outputs": [],
   "source": [
    "public class HorseRace {\n",
    "    public static void main(String [] a)\n",
    "    {\n",
    "        Race race = new Race(15);\n",
    "        Horse axel = new Horse('A', \"Axel\", 0.7);\n",
    "        Horse beames = new Horse('B', \"Beames\", 0.6);\n",
    "        Horse cherry = new Horse('C', \"Cherry\", 0.8);\n",
    "\n",
    "        race.addHorse(axel, 1);\n",
    "        race.addHorse(beames, 2);\n",
    "        race.addHorse(cherry, 3);\n",
    "\n",
    "        race.startRace();\n",
    "    }\n",
    "}"
   ]
  },
  {
   "cell_type": "markdown",
   "metadata": {},
   "source": [
    "In the main method, a ```Race``` object is initialised, along with 3 horses: Axel, Beames and Cherry. The 3 horses are added to the race using the ```addHorse()``` function. "
   ]
  },
  {
   "cell_type": "markdown",
   "metadata": {},
   "source": [
    "**Update 1** Display Winning Horse\n",
    "\n",
    "Problem:\n",
    "\n",
    "The ```startRace()``` method is used as main function of the ```Race``` class. The first change I made to this class was inside the ```startRace()``` method. It is unclear as to which horse wins at the end of each race, so I added the following functionality to display the name of the winning horse in the terminal upon race completion.\n"
   ]
  },
  {
   "cell_type": "code",
   "execution_count": null,
   "metadata": {
    "vscode": {
     "languageId": "java"
    }
   },
   "outputs": [],
   "source": [
    "// Determine the winning horse\n",
    "Horse winningHorse = null;\n",
    "if (raceWonBy(lane1Horse))\n",
    "{\n",
    "    winningHorse = lane1Horse;\n",
    "} else if (raceWonBy(lane2Horse))\n",
    "{\n",
    "    winningHorse = lane2Horse;\n",
    "} else if (raceWonBy(lane3Horse))\n",
    "{\n",
    "    winningHorse = lane3Horse;\n",
    "}            \n",
    "\n",
    "// Display the name of the winning horse\n",
    "System.out.println(winningHorse.getName() + \" won the race!\");"
   ]
  },
  {
   "cell_type": "markdown",
   "metadata": {},
   "source": [
    "Functionality:\n",
    "\n",
    "This code snippet is placed at the end of the ```startRace()``` method, after the race has ended. Firstly, a new object ```winningHorse``` is initialised to null. Secondly, it checks three different conditions to determine which horse has won the race. The horse that has one has its contents copied to the ```winningHorse``` object. Lastly, a message is displayed showing the name of the winning horse."
   ]
  },
  {
   "cell_type": "markdown",
   "metadata": {},
   "source": [
    "Testing:\n",
    "\n",
    "I ran several races to see whether the code was functioning correctly, and the results show that the function works as intended, with the name of the winning horse being displayed at the end of each race."
   ]
  },
  {
   "cell_type": "code",
   "execution_count": null,
   "metadata": {
    "vscode": {
     "languageId": "java"
    }
   },
   "outputs": [],
   "source": [
    "---- Test 1 -------\n",
    "♀================== \n",
    "|               A| \n",
    "|           B    |\n",
    "|      ?         |\n",
    "==================\n",
    "Axel won the race!\n",
    "\n",
    "---- Test 2 -------\n",
    "♀==================\n",
    "|              A |\n",
    "|               B|\n",
    "|            ?   |\n",
    "==================\n",
    "Beames won the race!"
   ]
  },
  {
   "cell_type": "markdown",
   "metadata": {},
   "source": [
    "**Update 2** Handle All Horses Down\n",
    "\n",
    "Problem:\n",
    "\n",
    "When running the ```HorseRace``` class, I identified an error. When there was a race where all horses fell and none were able to continue running. This means that there is no check to exit out of the race if this case occurs. Below is the output of when this case occurs. The last frame of the race is repeated infinitely, requiring the program to be exited manually. \n"
   ]
  },
  {
   "cell_type": "code",
   "execution_count": null,
   "metadata": {
    "vscode": {
     "languageId": "java"
    }
   },
   "outputs": [],
   "source": [
    "♀==================\n",
    "|           A    |\n",
    "|          B     |\n",
    "|      ?         |\n",
    "==================\n",
    "♀==================\n",
    "|            ?   |\n",
    "|           ?    |\n",
    "|      ?         |\n",
    "=================="
   ]
  },
  {
   "cell_type": "markdown",
   "metadata": {},
   "source": [
    "Functionality:\n",
    "\n",
    "To correct this, I added a new case to be checked for each pass of the while loop inside ```startRace```. It checks if all of the horses have fallen, and if this condition is true, the race will end."
   ]
  },
  {
   "cell_type": "code",
   "execution_count": null,
   "metadata": {
    "vscode": {
     "languageId": "java"
    }
   },
   "outputs": [],
   "source": [
    "while(!finished)\n",
    "--------------------\n",
    "    if(lane1Horse.hasFallen() && lane2Horse.hasFallen() && lane3Horse.hasFallen())\n",
    "    {\n",
    "        finished = true;\n",
    "    }"
   ]
  },
  {
   "cell_type": "markdown",
   "metadata": {},
   "source": [
    "Lastly, I extended the section of code determining the winning horse. I added the functionality to make the winning horse the one that travelled furthest in the case that they all fall over before reaching the finish line. This was done by simply adding some more conditions as shown below.\n"
   ]
  },
  {
   "cell_type": "code",
   "execution_count": null,
   "metadata": {
    "vscode": {
     "languageId": "java"
    }
   },
   "outputs": [],
   "source": [
    "// Determine the winning horse\n",
    "Horse winningHorse = null;\n",
    "if (raceWonBy(lane1Horse))\n",
    "{\n",
    "    winningHorse = lane1Horse;\n",
    "} else if (raceWonBy(lane2Horse))\n",
    "{\n",
    "    winningHorse = lane2Horse;\n",
    "} else if (raceWonBy(lane3Horse))\n",
    "{\n",
    "    winningHorse = lane3Horse;\n",
    "}\n",
    "else\n",
    "{\n",
    "    if (lane1Horse.getDistanceTravelled() > lane2Horse.getDistanceTravelled() && lane1Horse.getDistanceTravelled() > lane3Horse.getDistanceTravelled())\n",
    "    {\n",
    "        winningHorse = lane1Horse;\n",
    "    }\n",
    "    else if (lane2Horse.getDistanceTravelled() > lane1Horse.getDistanceTravelled() && lane2Horse.getDistanceTravelled() > lane3Horse.getDistanceTravelled())\n",
    "    {\n",
    "        winningHorse = lane2Horse;\n",
    "    }\n",
    "    else\n",
    "    {\n",
    "        winningHorse = lane3Horse;\n",
    "    }\n",
    "}"
   ]
  },
  {
   "cell_type": "markdown",
   "metadata": {},
   "source": [
    "Testing:\n",
    "\n",
    "I ran several races where all races fell to see that the program was working correctly, and as shown in the example below, the horse that travels furthest before falling will be the one to be declared the winner."
   ]
  },
  {
   "cell_type": "code",
   "execution_count": null,
   "metadata": {
    "vscode": {
     "languageId": "java"
    }
   },
   "outputs": [],
   "source": [
    "♀==================\n",
    "|    ?           |\n",
    "|    B           |\n",
    "|    ?           |\n",
    "==================\n",
    "♀==================\n",
    "|    ?           |\n",
    "|     ?          |\n",
    "|    ?           |\n",
    "==================\n",
    "Beames won the race!"
   ]
  },
  {
   "cell_type": "markdown",
   "metadata": {},
   "source": [
    "In this case, Beames (Horse B) was the last to fall and therefore was declared the winner. "
   ]
  },
  {
   "cell_type": "markdown",
   "metadata": {},
   "source": [
    "**Update 3** Display Name and Confidence"
   ]
  },
  {
   "cell_type": "markdown",
   "metadata": {},
   "source": [
    "Problem:\n",
    "\n",
    "When the program is running, it is quite unclear as to which horse is which. Furthermore, there is no indication as to what the confidence rating of the horse is, making it difficult for users to know which horse has the best odds for each race. \n",
    "\n",
    "Functionality:\n",
    "\n",
    "To resolve this, I extended the ```printLane()``` method to show the name and confidence of each horse."
   ]
  },
  {
   "cell_type": "code",
   "execution_count": null,
   "metadata": {
    "vscode": {
     "languageId": "java"
    }
   },
   "outputs": [],
   "source": [
    "private void printLane(Horse theHorse)\n",
    "----------------------------------------\n",
    "    System.out.print(\" \" + theHorse.getName() + \" (\" + theHorse.getConfidence() + \")\");"
   ]
  },
  {
   "cell_type": "markdown",
   "metadata": {},
   "source": [
    "I also added another line to the ```printRace()``` method to print \"Name\" and \"Confidence\" as headers for clarity. "
   ]
  },
  {
   "cell_type": "code",
   "execution_count": null,
   "metadata": {
    "vscode": {
     "languageId": "java"
    }
   },
   "outputs": [],
   "source": [
    "private void printRace()\n",
    "----------------------------------------\n",
    "    multiplePrint('=',raceLength+2); //top edge of track\n",
    "    System.out.println(\" Name  Confidence\");"
   ]
  },
  {
   "cell_type": "markdown",
   "metadata": {},
   "source": [
    "This results in the interface showing more information about the race and the horses."
   ]
  },
  {
   "cell_type": "code",
   "execution_count": null,
   "metadata": {
    "vscode": {
     "languageId": "java"
    }
   },
   "outputs": [],
   "source": [
    "♀================= Name  Confidence\n",
    "|               A| Axel (0.7)\n",
    "|       ?        | Beames (0.6)\n",
    "|         ?      | Cherry (0.8)\n",
    "==================\n",
    "Axel won the race!"
   ]
  },
  {
   "cell_type": "markdown",
   "metadata": {},
   "source": [
    "**Update 4** Horse Name Not Initialised\n",
    "\n",
    "Problem:\n",
    "\n",
    "I did some testing as shown below to see what would happen if the horse's name wasn't initialised to a String. In the case shown below, it was possible to provide the name as ```null```."
   ]
  },
  {
   "cell_type": "code",
   "execution_count": null,
   "metadata": {
    "vscode": {
     "languageId": "java"
    }
   },
   "outputs": [],
   "source": [
    "Horse beames = new Horse('B', null, 0.6);"
   ]
  },
  {
   "cell_type": "code",
   "execution_count": null,
   "metadata": {
    "vscode": {
     "languageId": "java"
    }
   },
   "outputs": [],
   "source": [
    "♀================= Name  Confidence\n",
    "|    ?           | Axel (0.7)\n",
    "|               B| null (0.6)\n",
    "| ?              | Cherry (0.8)\n",
    "==================\n",
    "null won the race!"
   ]
  },
  {
   "cell_type": "markdown",
   "metadata": {},
   "source": [
    "Solution:\n",
    "\n",
    "When the horse is not initialised with a valid name, the program should display an error message showing that the name of the horse is not valid. I modified the ```addHorse()``` method in the ```Race``` class."
   ]
  },
  {
   "cell_type": "code",
   "execution_count": null,
   "metadata": {
    "vscode": {
     "languageId": "java"
    }
   },
   "outputs": [],
   "source": [
    "public void addHorse(Horse theHorse, int laneNumber)\n",
    "{\n",
    "    if (theHorse.getName() == null || theHorse.getName().isEmpty()) {\n",
    "        System.out.println(\"Error: The horse name is not valid.\");\n",
    "        return;\n",
    "    }\n",
    "\n",
    "    if (laneNumber == 1)\n",
    "    {\n",
    "        lane1Horse = theHorse;\n",
    "    }\n",
    "    else if (laneNumber == 2)\n",
    "    {\n",
    "        lane2Horse = theHorse;\n",
    "    }\n",
    "    else if (laneNumber == 3)\n",
    "    {\n",
    "        lane3Horse = theHorse;\n",
    "    }\n",
    "    else\n",
    "    {\n",
    "        System.out.println(\"Cannot add horse to lane \" + laneNumber + \" because there is no such lane\");\n",
    "    }\n",
    "}"
   ]
  },
  {
   "cell_type": "markdown",
   "metadata": {},
   "source": [
    "It now checks if the name of the horse is either null or empty.\n",
    "\n",
    "```theHorse.getName() == null || theHorse.getName().isEmpty() ```\n",
    "\n",
    "If this case is true, an error message is printed indicating that the horse name isn't valid. Then, the program returns from the method without adding any horses. This results in an exception being called and the program ending. The program ending was the intended result. "
   ]
  },
  {
   "cell_type": "code",
   "execution_count": null,
   "metadata": {
    "vscode": {
     "languageId": "java"
    }
   },
   "outputs": [],
   "source": [
    "Error: The horse name is not valid.\n",
    "Exception in thread \"main\" java.lang.NullPointerException: Cannot invoke \"Horse.goBackToStart()\" because \"this.lane2Horse\" is null      \n",
    "        at Race.startRace(Race.java:77)\n",
    "        at HorseRace.main(HorseRace.java:13)"
   ]
  },
  {
   "cell_type": "markdown",
   "metadata": {},
   "source": [
    "**Update 5** Random name and confidence"
   ]
  },
  {
   "cell_type": "markdown",
   "metadata": {},
   "source": [
    "Problem:\n",
    "\n",
    "Currently, the game is not very interesting as the names and confidence ratings of the horses is the same every time. Axel is always in lane 1, Beames is always in lane 2, Cherry is always in lane 3 and they all having the same confidence ratings of 0.7, 0.6 and 0.8 respectively. \n",
    "\n",
    "Solution:\n",
    "\n",
    "To make the simulation more interesting, I have implemented 2 new function that add another element of randomness to the game. The first function is called ```getRandomName()```. This function returns a randomly chosen name from a String array containing 20 different names for the Horses. "
   ]
  },
  {
   "cell_type": "code",
   "execution_count": null,
   "metadata": {
    "vscode": {
     "languageId": "java"
    }
   },
   "outputs": [],
   "source": [
    "private static String getRandomName() {\n",
    "    String[] names = {\"Axel\", \"Beames\", \"Cherry\", \"Dexter\", \"Ella\", \"Finn\", \"Gemma\", \"Harley\", \"Indigo\", \"Jasper\", \"Kai\", \"Luna\", \"Milo\", \"Nova\", \"Olive\", \"Piper\", \"Quinn\", \"Ryder\", \"Sierra\", \"Toby\"};\n",
    "    Random random = new Random();\n",
    "    return names[random.nextInt(names.length)];\n",
    "}"
   ]
  },
  {
   "cell_type": "markdown",
   "metadata": {},
   "source": [
    "The next function is called ```getRandomConfidence()```. It generates a random number from 0.1 to 1 and returns this as a double. "
   ]
  },
  {
   "cell_type": "code",
   "execution_count": null,
   "metadata": {
    "vscode": {
     "languageId": "java"
    }
   },
   "outputs": [],
   "source": [
    "private static double getRandomConfidence() {\n",
    "    return 0.1 + Math.random() * 0.9;\n",
    "}"
   ]
  },
  {
   "cell_type": "markdown",
   "metadata": {},
   "source": [
    "These are called when initialising the horses."
   ]
  },
  {
   "cell_type": "code",
   "execution_count": null,
   "metadata": {
    "vscode": {
     "languageId": "java"
    }
   },
   "outputs": [],
   "source": [
    "Horse h1 = new Horse('A', getRandomName(), getRandomConfidence());\n",
    "Horse h2 = new Horse('B', getRandomName(), getRandomConfidence());\n",
    "Horse h3 = new Horse('C', getRandomName(), getRandomConfidence());"
   ]
  },
  {
   "cell_type": "markdown",
   "metadata": {},
   "source": [
    "Testing:\n",
    "\n",
    "This meant that 3 new horses were generated each time the program was run, each with their own unique confidence levels. However, there was an oversight in the code which resulted in unnecessarily long doubles for the confidence rating."
   ]
  },
  {
   "cell_type": "code",
   "execution_count": null,
   "metadata": {
    "vscode": {
     "languageId": "java"
    }
   },
   "outputs": [],
   "source": [
    "♀================= Name  Confidence\n",
    "|             A  | Kai (0.3529029029550672)\n",
    "|          ?     | Luna (0.44373358699206256)\n",
    "|               C| Sierra (0.4513689757790622)\n",
    "==================\n",
    "Sierra won the race!"
   ]
  },
  {
   "cell_type": "markdown",
   "metadata": {},
   "source": [
    "This clutters the interface with unneeded detail. To fix this, I extended the ```getRandomConfidence``` method to round the confidence double to 2 decimal places."
   ]
  },
  {
   "cell_type": "code",
   "execution_count": null,
   "metadata": {
    "vscode": {
     "languageId": "java"
    }
   },
   "outputs": [],
   "source": [
    "private static double getRandomConfidence() {\n",
    "    double randomConfidence = 0.1 + Math.random() * 0.9;\n",
    "    return Math.round(randomConfidence * 100.0) / 100.0;\n",
    "}"
   ]
  },
  {
   "cell_type": "markdown",
   "metadata": {},
   "source": [
    "This results in a cleaner and more readable interface, as shown by the test runs below:"
   ]
  },
  {
   "cell_type": "code",
   "execution_count": null,
   "metadata": {
    "vscode": {
     "languageId": "java"
    }
   },
   "outputs": [],
   "source": [
    "♀================= Name  Confidence\n",
    "|               A| Beames (0.63)\n",
    "| ?              | Olive (0.26)\n",
    "|       ?        | Jasper (0.44)\n",
    "==================\n",
    "Beames won the race!\n",
    "\n",
    "____________________________________\n",
    "\n",
    "♀================= Name  Confidence\n",
    "|               A| Luna (0.79)\n",
    "|       ?        | Dexter (0.81)\n",
    "| ?              | Harley (0.82)\n",
    "==================\n",
    "Luna won the race!"
   ]
  },
  {
   "cell_type": "markdown",
   "metadata": {},
   "source": [
    "**Update 6** Clearing the terminal for an animation-like effect\n",
    "\n",
    "Problem: \n",
    "\n",
    "Currently, the program prints every new \"frame\" of the simulation line by line into the terminal as shown below."
   ]
  },
  {
   "cell_type": "code",
   "execution_count": null,
   "metadata": {
    "vscode": {
     "languageId": "java"
    }
   },
   "outputs": [],
   "source": [
    "♀================= Name  Confidence\n",
    "| A              | Milo (0.58)\n",
    "| B              | Axel (0.99) \n",
    "|C               | Sierra (0.5)\n",
    "==================\n",
    "♀================= Name  Confidence\n",
    "|  A             | Milo (0.58)     \n",
    "|  ?             | Axel (0.99)     \n",
    "| ?              | Sierra (0.5)    \n",
    "==================\n",
    "♀================= Name  Confidence\n",
    "|   A            | Milo (0.58)\n",
    "|  ?             | Axel (0.99)\n",
    "| ?              | Sierra (0.5)\n",
    "==================\n",
    "♀================= Name  Confidence\n",
    "|      A         | Milo (0.58)\n",
    "|  ?             | Axel (0.99)\n",
    "| ?              | Sierra (0.5)\n",
    "==================\n",
    "♀================= Name  Confidence\n",
    "|        A       | Milo (0.58)\n",
    "|  ?             | Axel (0.99)\n",
    "| ?              | Sierra (0.5)\n",
    "==================\n",
    "♀================= Name  Confidence\n",
    "|        A       | Milo (0.58)\n",
    "|  ?             | Axel (0.99)\n",
    "| ?              | Sierra (0.5)\n",
    "==================\n",
    "♀================= Name  Confidence\n",
    "|         A      | Milo (0.58)\n",
    "|  ?             | Axel (0.99)\n",
    "| ?              | Sierra (0.5)\n",
    "==================\n",
    "♀================= Name  Confidence\n",
    "|         A      | Milo (0.58)\n",
    "|  ?             | Axel (0.99)\n",
    "| ?              | Sierra (0.5)\n",
    "==================\n",
    "♀================= Name  Confidence\n",
    "|          A     | Milo (0.58)\n",
    "|  ?             | Axel (0.99)\n",
    "| ?              | Sierra (0.5)\n",
    "==================\n",
    "♀================= Name  Confidence\n",
    "|          A     | Milo (0.58)\n",
    "|  ?             | Axel (0.99)\n",
    "| ?              | Sierra (0.5)\n",
    "==================\n",
    "♀================= Name  Confidence\n",
    "|             A  | Milo (0.58)\n",
    "|  ?             | Axel (0.99)\n",
    "| ?              | Sierra (0.5)\n",
    "==================\n",
    "♀================= Name  Confidence\n",
    "|               A| Milo (0.58)\n",
    "|  ?             | Axel (0.99)\n",
    "| ?              | Sierra (0.5)\n",
    "==================\n",
    "Milo won the race!"
   ]
  },
  {
   "cell_type": "markdown",
   "metadata": {},
   "source": [
    "The terminal is not cleared between each frame. This results in the race positions being displayed continuously in the terminal, which results in a cluttered visual space.\n",
    "\n",
    "Solution: \n",
    "\n",
    "To address this, I have extended the ```startRace()``` method to incorporate a terminal refresh between each frame from the ```printRace()``` call. This is done by utilising the escape sequence: ```\"\\u001b[H\\u001b[2J\"``` to clear the terminal window. "
   ]
  },
  {
   "cell_type": "code",
   "execution_count": null,
   "metadata": {
    "vscode": {
     "languageId": "java"
    }
   },
   "outputs": [],
   "source": [
    "public void startRace()\n",
    "    while (!finished)\n",
    "        // Clear the terminal\n",
    "        System.out.print(\"\\u001b[H\\u001b[2J\");\n",
    "        //move each horse\n",
    "        printRace();        "
   ]
  },
  {
   "cell_type": "markdown",
   "metadata": {
    "vscode": {
     "languageId": "java"
    }
   },
   "source": [
    "This results in an increased visual clarity as each frame is displayed in the terminal free from any clutter, improving readability. It also results in an animated effect as it simulates the horses moving down the track towards the finish line. The users can observe the real-time progress of the game which is more dynamic and fun.\n",
    "\n"
   ]
  },
  {
   "cell_type": "markdown",
   "metadata": {},
   "source": [
    "**Future Implentations**\n",
    "\n",
    "***\n",
    "\n",
    "Problem:\n",
    "\n",
    "The program is not interactive as there is no option to configure how many lanes there are.\n",
    "\n",
    "Solution:\n",
    "\n",
    "To change this, I can implement a start menu, allowing the user to choose how many lanes they would like. The program could generate random names and random confidence numbers for the horeses. To do this, the following changes could be implemented:\n",
    "\n",
    "Modify the HorseRace class to include a method for showing the start menu called showMainMenu. Within this method, allow the user to configure the number of horses/lanes. \n",
    "\n",
    "Set the horses. The program will use the ```getRandomName()``` and ```getRandomConfidence()``` methods to create new horse objects, one for each lane.\n",
    "\n",
    "___\n",
    "Problem:\n",
    "\n",
    "The horses do not use unicode icons for the horse as my terminal was not able to display these, as shown below:"
   ]
  },
  {
   "cell_type": "code",
   "execution_count": null,
   "metadata": {
    "vscode": {
     "languageId": "java"
    }
   },
   "outputs": [],
   "source": [
    "Horse h1 = new Horse('♞', getRandomName(), getRandomConfidence());\n",
    "Horse h2 = new Horse('♘', getRandomName(), getRandomConfidence());\n",
    "Horse h3 = new Horse('♞', getRandomName(), getRandomConfidence());\n",
    "\n",
    "// Terminal Output: \n",
    "\n",
    "================= Name  Confidence\n",
    "|               ?| Ella (0.26)     \n",
    "|?               | Ryder (0.19)    \n",
    "|             ?  | Olive (0.19)    \n",
    "==================\n",
    "Ella won the race!"
   ]
  },
  {
   "cell_type": "markdown",
   "metadata": {},
   "source": [
    "Solution: \n",
    "\n",
    "In the GUI development section of the program, I can implement icons to represent the horses rather than using letters, as is currently being done."
   ]
  }
 ],
 "metadata": {
  "language_info": {
   "name": "python"
  }
 },
 "nbformat": 4,
 "nbformat_minor": 2
}
